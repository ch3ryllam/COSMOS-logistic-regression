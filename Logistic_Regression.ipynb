{
  "nbformat": 4,
  "nbformat_minor": 0,
  "metadata": {
    "colab": {
      "provenance": []
    },
    "kernelspec": {
      "name": "python3",
      "display_name": "Python 3"
    },
    "language_info": {
      "name": "python"
    }
  },
  "cells": [
    {
      "cell_type": "code",
      "source": [
        "import pandas as pd\n",
        "import numpy as np\n",
        "import matplotlib.pyplot as plt\n",
        "%matplotlib inline"
      ],
      "metadata": {
        "id": "Gj0HZjM8Qw3m"
      },
      "execution_count": 1,
      "outputs": []
    },
    {
      "cell_type": "code",
      "source": [
        "import math"
      ],
      "metadata": {
        "id": "l35LAaMfcb9_"
      },
      "execution_count": 2,
      "outputs": []
    },
    {
      "cell_type": "code",
      "source": [
        "! gdown 1TKXHgSoUyO5wwitrVxvo4feJuR-Yb2QS"
      ],
      "metadata": {
        "id": "MCNhBQFBnWHq",
        "colab": {
          "base_uri": "https://localhost:8080/"
        },
        "outputId": "ab390381-6518-489e-d39f-74254446c08b"
      },
      "execution_count": 3,
      "outputs": [
        {
          "output_type": "stream",
          "name": "stdout",
          "text": [
            "Downloading...\n",
            "From: https://drive.google.com/uc?id=1TKXHgSoUyO5wwitrVxvo4feJuR-Yb2QS\n",
            "To: /content/cancer_data.csv\n",
            "\r  0% 0.00/618 [00:00<?, ?B/s]\r100% 618/618 [00:00<00:00, 1.60MB/s]\n"
          ]
        }
      ]
    },
    {
      "cell_type": "code",
      "source": [
        "df =  pd.read_csv('cancer_data.csv')\n",
        "df.head()"
      ],
      "metadata": {
        "id": "csiokV9RndrJ",
        "colab": {
          "base_uri": "https://localhost:8080/",
          "height": 206
        },
        "outputId": "dea78d4a-d2e6-4649-be41-2947252d0316"
      },
      "execution_count": 4,
      "outputs": [
        {
          "output_type": "execute_result",
          "data": {
            "text/plain": [
              "     area  symmetry  diagnosis\n",
              "0  10.330     20.92          1\n",
              "1   7.044     25.21          1\n",
              "2   7.118     17.21          0\n",
              "3   2.863     16.80          0\n",
              "4   7.489     19.31          1"
            ],
            "text/html": [
              "\n",
              "  <div id=\"df-9872b6b0-c5db-4245-90a1-4d8497b311b6\">\n",
              "    <div class=\"colab-df-container\">\n",
              "      <div>\n",
              "<style scoped>\n",
              "    .dataframe tbody tr th:only-of-type {\n",
              "        vertical-align: middle;\n",
              "    }\n",
              "\n",
              "    .dataframe tbody tr th {\n",
              "        vertical-align: top;\n",
              "    }\n",
              "\n",
              "    .dataframe thead th {\n",
              "        text-align: right;\n",
              "    }\n",
              "</style>\n",
              "<table border=\"1\" class=\"dataframe\">\n",
              "  <thead>\n",
              "    <tr style=\"text-align: right;\">\n",
              "      <th></th>\n",
              "      <th>area</th>\n",
              "      <th>symmetry</th>\n",
              "      <th>diagnosis</th>\n",
              "    </tr>\n",
              "  </thead>\n",
              "  <tbody>\n",
              "    <tr>\n",
              "      <th>0</th>\n",
              "      <td>10.330</td>\n",
              "      <td>20.92</td>\n",
              "      <td>1</td>\n",
              "    </tr>\n",
              "    <tr>\n",
              "      <th>1</th>\n",
              "      <td>7.044</td>\n",
              "      <td>25.21</td>\n",
              "      <td>1</td>\n",
              "    </tr>\n",
              "    <tr>\n",
              "      <th>2</th>\n",
              "      <td>7.118</td>\n",
              "      <td>17.21</td>\n",
              "      <td>0</td>\n",
              "    </tr>\n",
              "    <tr>\n",
              "      <th>3</th>\n",
              "      <td>2.863</td>\n",
              "      <td>16.80</td>\n",
              "      <td>0</td>\n",
              "    </tr>\n",
              "    <tr>\n",
              "      <th>4</th>\n",
              "      <td>7.489</td>\n",
              "      <td>19.31</td>\n",
              "      <td>1</td>\n",
              "    </tr>\n",
              "  </tbody>\n",
              "</table>\n",
              "</div>\n",
              "      <button class=\"colab-df-convert\" onclick=\"convertToInteractive('df-9872b6b0-c5db-4245-90a1-4d8497b311b6')\"\n",
              "              title=\"Convert this dataframe to an interactive table.\"\n",
              "              style=\"display:none;\">\n",
              "        \n",
              "  <svg xmlns=\"http://www.w3.org/2000/svg\" height=\"24px\"viewBox=\"0 0 24 24\"\n",
              "       width=\"24px\">\n",
              "    <path d=\"M0 0h24v24H0V0z\" fill=\"none\"/>\n",
              "    <path d=\"M18.56 5.44l.94 2.06.94-2.06 2.06-.94-2.06-.94-.94-2.06-.94 2.06-2.06.94zm-11 1L8.5 8.5l.94-2.06 2.06-.94-2.06-.94L8.5 2.5l-.94 2.06-2.06.94zm10 10l.94 2.06.94-2.06 2.06-.94-2.06-.94-.94-2.06-.94 2.06-2.06.94z\"/><path d=\"M17.41 7.96l-1.37-1.37c-.4-.4-.92-.59-1.43-.59-.52 0-1.04.2-1.43.59L10.3 9.45l-7.72 7.72c-.78.78-.78 2.05 0 2.83L4 21.41c.39.39.9.59 1.41.59.51 0 1.02-.2 1.41-.59l7.78-7.78 2.81-2.81c.8-.78.8-2.07 0-2.86zM5.41 20L4 18.59l7.72-7.72 1.47 1.35L5.41 20z\"/>\n",
              "  </svg>\n",
              "      </button>\n",
              "      \n",
              "  <style>\n",
              "    .colab-df-container {\n",
              "      display:flex;\n",
              "      flex-wrap:wrap;\n",
              "      gap: 12px;\n",
              "    }\n",
              "\n",
              "    .colab-df-convert {\n",
              "      background-color: #E8F0FE;\n",
              "      border: none;\n",
              "      border-radius: 50%;\n",
              "      cursor: pointer;\n",
              "      display: none;\n",
              "      fill: #1967D2;\n",
              "      height: 32px;\n",
              "      padding: 0 0 0 0;\n",
              "      width: 32px;\n",
              "    }\n",
              "\n",
              "    .colab-df-convert:hover {\n",
              "      background-color: #E2EBFA;\n",
              "      box-shadow: 0px 1px 2px rgba(60, 64, 67, 0.3), 0px 1px 3px 1px rgba(60, 64, 67, 0.15);\n",
              "      fill: #174EA6;\n",
              "    }\n",
              "\n",
              "    [theme=dark] .colab-df-convert {\n",
              "      background-color: #3B4455;\n",
              "      fill: #D2E3FC;\n",
              "    }\n",
              "\n",
              "    [theme=dark] .colab-df-convert:hover {\n",
              "      background-color: #434B5C;\n",
              "      box-shadow: 0px 1px 3px 1px rgba(0, 0, 0, 0.15);\n",
              "      filter: drop-shadow(0px 1px 2px rgba(0, 0, 0, 0.3));\n",
              "      fill: #FFFFFF;\n",
              "    }\n",
              "  </style>\n",
              "\n",
              "      <script>\n",
              "        const buttonEl =\n",
              "          document.querySelector('#df-9872b6b0-c5db-4245-90a1-4d8497b311b6 button.colab-df-convert');\n",
              "        buttonEl.style.display =\n",
              "          google.colab.kernel.accessAllowed ? 'block' : 'none';\n",
              "\n",
              "        async function convertToInteractive(key) {\n",
              "          const element = document.querySelector('#df-9872b6b0-c5db-4245-90a1-4d8497b311b6');\n",
              "          const dataTable =\n",
              "            await google.colab.kernel.invokeFunction('convertToInteractive',\n",
              "                                                     [key], {});\n",
              "          if (!dataTable) return;\n",
              "\n",
              "          const docLinkHtml = 'Like what you see? Visit the ' +\n",
              "            '<a target=\"_blank\" href=https://colab.research.google.com/notebooks/data_table.ipynb>data table notebook</a>'\n",
              "            + ' to learn more about interactive tables.';\n",
              "          element.innerHTML = '';\n",
              "          dataTable['output_type'] = 'display_data';\n",
              "          await google.colab.output.renderOutput(dataTable, element);\n",
              "          const docLink = document.createElement('div');\n",
              "          docLink.innerHTML = docLinkHtml;\n",
              "          element.appendChild(docLink);\n",
              "        }\n",
              "      </script>\n",
              "    </div>\n",
              "  </div>\n",
              "  "
            ]
          },
          "metadata": {},
          "execution_count": 4
        }
      ]
    },
    {
      "cell_type": "code",
      "execution_count": 5,
      "metadata": {
        "id": "4de40d05"
      },
      "outputs": [],
      "source": [
        "from numpy.ma.core import exp\n",
        "def sigmoid(z):\n",
        "    g = 1/(1+(exp(-z)))\n",
        "    return g"
      ]
    },
    {
      "cell_type": "code",
      "execution_count": 6,
      "metadata": {
        "id": "036ec083"
      },
      "outputs": [],
      "source": [
        "def predict(input,theta):\n",
        "  x = theta[0]\n",
        "  for n in range(len(input)):\n",
        "    x += theta[n+1]*input[n]\n",
        "  return sigmoid(x)"
      ]
    },
    {
      "cell_type": "code",
      "source": [
        "X = df[['area','symmetry']]\n",
        "y = df['diagnosis']\n",
        "\n",
        "X = X.to_numpy()\n",
        "y = y.to_numpy()\n",
        "\n",
        "sel0 = (y==0)\n",
        "sel1 = (y==1)\n",
        "\n",
        "plt.scatter(X[sel0,0],X[sel0,1], color='g', marker='.')\n",
        "plt.scatter(X[sel1,0],X[sel1,1], color='r', marker='.')\n",
        "plt.grid()"
      ],
      "metadata": {
        "id": "4sNAPZag45qv",
        "colab": {
          "base_uri": "https://localhost:8080/",
          "height": 265
        },
        "outputId": "a6d4fd83-946b-43e5-9c54-7a6902f0024b"
      },
      "execution_count": 7,
      "outputs": [
        {
          "output_type": "display_data",
          "data": {
            "text/plain": [
              "<Figure size 432x288 with 1 Axes>"
            ],
            "image/png": "[encoded data removed]"
          },
          "metadata": {
            "needs_background": "light"
          }
        }
      ]
    },
    {
      "cell_type": "code",
      "source": [
        "theta_test1 = np.array( [-16.5, 1, 0.5] )\n",
        "theta_test2 = np.array( [-18, 0, 1] ) #x\n",
        "theta_test3 = np.array( [-16,-2, 2] ) #x\n",
        "\n",
        "predict([8, 17], theta_test1)"
      ],
      "metadata": {
        "id": "Z1TIEufi5lFb",
        "colab": {
          "base_uri": "https://localhost:8080/"
        },
        "outputId": "789e85ad-bb0a-48b5-cf76-6f72de3bed4a"
      },
      "execution_count": 8,
      "outputs": [
        {
          "output_type": "execute_result",
          "data": {
            "text/plain": [
              "0.5"
            ]
          },
          "metadata": {},
          "execution_count": 8
        }
      ]
    },
    {
      "cell_type": "code",
      "source": [
        "def costF(X, y, theta):\n",
        "  global c #cost (distance between probability and labelled input)\n",
        "  c = 0\n",
        "\n",
        "  for i in range(len(X)):\n",
        "\n",
        "    prob = predict(X[i,:], theta) #(defining the value of prob as the predict function)\n",
        "\n",
        "    if y[i] == 1: #if statement for evaluating cost > if the labelled data's value is 1 (malignant), use cost equation when y == 1, and vice versa\n",
        "      c -= math.log(prob)\n",
        "    else:\n",
        "      c -= math.log(1 - prob) #finding the total sum of costs; since the logs are negative\n",
        "\n",
        "  c = c/len(X) #avg: sum of costs divided by total amount of data sets\n",
        "\n",
        "  return c \n",
        "\n",
        "costF(X, y, theta_test1)"
      ],
      "metadata": {
        "colab": {
          "base_uri": "https://localhost:8080/"
        },
        "id": "sLRoNHy2Q9gz",
        "outputId": "375d5a41-f28c-4310-a608-eeb5c3b05108"
      },
      "execution_count": 9,
      "outputs": [
        {
          "output_type": "execute_result",
          "data": {
            "text/plain": [
              "0.20350445227972883"
            ]
          },
          "metadata": {},
          "execution_count": 9
        }
      ]
    }
  ]
}